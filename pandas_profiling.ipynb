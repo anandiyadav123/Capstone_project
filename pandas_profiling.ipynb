{
 "cells": [
  {
   "cell_type": "code",
   "execution_count": 3,
   "id": "d28471ce-87d2-46db-ac23-0e7ce4a604df",
   "metadata": {},
   "outputs": [],
   "source": [
    "import pandas as pd\n"
   ]
  },
  {
   "cell_type": "code",
   "execution_count": null,
   "id": "74c2cbb1-f4d3-4318-be10-bd25109a1d42",
   "metadata": {},
   "outputs": [],
   "source": [
    "!pip uninstall pandas-profiling\n"
   ]
  },
  {
   "cell_type": "code",
   "execution_count": 1,
   "id": "998e4c33-81a3-445c-b491-bc02e7ccbc37",
   "metadata": {},
   "outputs": [
    {
     "data": {
      "text/html": [
       "\n",
       "            <div>\n",
       "                <ins><a href=\"https://ydata.ai/register\">Upgrade to ydata-sdk</a></ins>\n",
       "                <p>\n",
       "                    Improve your data and profiling with ydata-sdk, featuring data quality scoring, redundancy detection, outlier identification, text validation, and synthetic data generation.\n",
       "                </p>\n",
       "            </div>\n",
       "            "
      ],
      "text/plain": [
       "<IPython.core.display.HTML object>"
      ]
     },
     "metadata": {},
     "output_type": "display_data"
    }
   ],
   "source": [
    "from ydata_profiling import ProfileReport"
   ]
  },
  {
   "cell_type": "code",
   "execution_count": 4,
   "id": "7f436768-f673-4f45-b1b0-c18ae8bc56ad",
   "metadata": {},
   "outputs": [],
   "source": [
    "# Load your dataset\n",
    "df = pd.read_csv('gurgaon_properties_cleaned_v2.csv').drop_duplicates()\n"
   ]
  },
  {
   "cell_type": "code",
   "execution_count": 5,
   "id": "c295cef9-4d0d-4efc-a9fa-27fc01a91aeb",
   "metadata": {},
   "outputs": [],
   "source": [
    "# Create the ProfileReport object\n",
    "profile = ProfileReport(df, title='Pandas Profiling Report', explorative=True)\n"
   ]
  },
  {
   "cell_type": "code",
   "execution_count": 7,
   "id": "acfa9f49-b71f-478a-9563-b630724d4e35",
   "metadata": {},
   "outputs": [
    {
     "data": {
      "application/vnd.jupyter.widget-view+json": {
       "model_id": "1d4d661b158342088568a531adfe03c3",
       "version_major": 2,
       "version_minor": 0
      },
      "text/plain": [
       "Export report to file:   0%|          | 0/1 [00:00<?, ?it/s]"
      ]
     },
     "metadata": {},
     "output_type": "display_data"
    }
   ],
   "source": [
    "# Generate the report\n",
    "profile.to_file(\"output_report.html\")"
   ]
  },
  {
   "cell_type": "code",
   "execution_count": null,
   "id": "85e45017-d8d2-47e2-a5cb-6bda57865068",
   "metadata": {},
   "outputs": [],
   "source": []
  }
 ],
 "metadata": {
  "kernelspec": {
   "display_name": "Python 3 (ipykernel)",
   "language": "python",
   "name": "python3"
  },
  "language_info": {
   "codemirror_mode": {
    "name": "ipython",
    "version": 3
   },
   "file_extension": ".py",
   "mimetype": "text/x-python",
   "name": "python",
   "nbconvert_exporter": "python",
   "pygments_lexer": "ipython3",
   "version": "3.11.7"
  }
 },
 "nbformat": 4,
 "nbformat_minor": 5
}
