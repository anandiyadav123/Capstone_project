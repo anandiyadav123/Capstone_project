{
 "cells": [
  {
   "cell_type": "code",
   "execution_count": 1,
   "id": "a959635d-29e0-4647-90b0-c7ea872f5c72",
   "metadata": {},
   "outputs": [],
   "source": [
    "import pandas as pd\n",
    "import numpy as np\n",
    "import matplotlib.pyplot as plt\n",
    "import seaborn as sns"
   ]
  },
  {
   "cell_type": "code",
   "execution_count": null,
   "id": "ce3cf42c-1560-4826-86d3-24872587b56a",
   "metadata": {},
   "outputs": [],
   "source": [
    "pd.set_option('display.max_columns',None)"
   ]
  },
  {
   "cell_type": "code",
   "execution_count": null,
   "id": "c7ef2f4d-5c84-401d-86b1-e7c766ab5acb",
   "metadata": {},
   "outputs": [],
   "source": [
    "df=pd.read_csv('gurgaon_properties_missing_value_imputation.csv')"
   ]
  },
  {
   "cell_type": "code",
   "execution_count": null,
   "id": "1606eba4-4359-43d1-85f1-44184659530d",
   "metadata": {},
   "outputs": [],
   "source": [
    "df.shape"
   ]
  },
  {
   "cell_type": "code",
   "execution_count": null,
   "id": "9fac76d8-6dc3-4b4a-b49e-58a31596691f",
   "metadata": {},
   "outputs": [],
   "source": [
    "df.head()"
   ]
  },
  {
   "cell_type": "code",
   "execution_count": null,
   "id": "f97990f2-e4eb-4786-a88c-25399db86808",
   "metadata": {},
   "outputs": [],
   "source": [
    "train_df=df.drop(columns=['society','price_per_sqft'])"
   ]
  },
  {
   "cell_type": "code",
   "execution_count": null,
   "id": "8e0e0f48-4ae0-4270-91d5-b0b66c4d1342",
   "metadata": {},
   "outputs": [],
   "source": [
    "train_df.head()"
   ]
  },
  {
   "cell_type": "code",
   "execution_count": null,
   "id": "eac10fd1-a629-40b6-abe1-f4ee015e89a8",
   "metadata": {},
   "outputs": [],
   "source": [
    "sns.heatmap(train_df.corr())"
   ]
  },
  {
   "cell_type": "code",
   "execution_count": null,
   "id": "df5ad2e4-b422-4e4a-af6d-33a05c30c1f3",
   "metadata": {},
   "outputs": [],
   "source": [
    "train_df.corr()['price'].sort_values(ascending=False)"
   ]
  },
  {
   "cell_type": "code",
   "execution_count": null,
   "id": "ede09cb3-828d-49e6-99e9-2f3308480786",
   "metadata": {},
   "outputs": [],
   "source": [
    "! pip uninstall pandas-profiling"
   ]
  },
  {
   "cell_type": "code",
   "execution_count": null,
   "id": "22a94b4b-a5a5-48ca-9570-57d1366d55b9",
   "metadata": {},
   "outputs": [],
   "source": [
    "# cols in question\n",
    "\n",
    "# numerical -> luxury_score, others, floorNum\n",
    "# categorical -> property_type, sector, agePossession\n"
   ]
  },
  {
   "cell_type": "code",
   "execution_count": null,
   "id": "e7450dd5-f11f-4d88-9809-dd7ff6b2a33e",
   "metadata": {},
   "outputs": [],
   "source": []
  }
 ],
 "metadata": {
  "kernelspec": {
   "display_name": "Python 3 (ipykernel)",
   "language": "python",
   "name": "python3"
  },
  "language_info": {
   "codemirror_mode": {
    "name": "ipython",
    "version": 3
   },
   "file_extension": ".py",
   "mimetype": "text/x-python",
   "name": "python",
   "nbconvert_exporter": "python",
   "pygments_lexer": "ipython3",
   "version": "3.11.7"
  }
 },
 "nbformat": 4,
 "nbformat_minor": 5
}
